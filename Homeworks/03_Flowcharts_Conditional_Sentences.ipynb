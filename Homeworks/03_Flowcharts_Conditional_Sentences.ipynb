{
 "cells": [
  {
   "attachments": {},
   "cell_type": "markdown",
   "metadata": {},
   "source": [
    "# Flujos de control"
   ]
  },
  {
   "attachments": {},
   "cell_type": "markdown",
   "metadata": {},
   "source": [
    "1) Crear una variable que contenga un elemento del conjunto de números enteros y luego imprimir por pantalla si es mayor o menor a cero"
   ]
  },
  {
   "cell_type": "code",
   "execution_count": 4,
   "metadata": {},
   "outputs": [
    {
     "name": "stdout",
     "output_type": "stream",
     "text": [
      "5 es mayor a cero\n"
     ]
    }
   ],
   "source": [
    "x = 5\n",
    "if x > 0:\n",
    "    print(f'{x} es mayor a cero')\n",
    "elif x < 0:\n",
    "    print(f'{x} es menor a cero')\n",
    "else:\n",
    "    print(f'{x} es igual a cero')"
   ]
  },
  {
   "attachments": {},
   "cell_type": "markdown",
   "metadata": {},
   "source": [
    "2) Crear dos variables y un condicional que informe si son del mismo tipo de dato"
   ]
  },
  {
   "cell_type": "code",
   "execution_count": 8,
   "metadata": {},
   "outputs": [
    {
     "name": "stdout",
     "output_type": "stream",
     "text": [
      "Las variables \"x\" y \"y\" son tipos de datos diferentes\n"
     ]
    }
   ],
   "source": [
    "x = 7\n",
    "y = '1'\n",
    "\n",
    "if type(x) == type(y):\n",
    "    print(f'Las variables \"x\" y \"y\" son el mismo tipo de dato {type(x)}')\n",
    "else:\n",
    "    print(f'Las variables \"x\" y \"y\" son tipos de datos diferentes')"
   ]
  },
  {
   "attachments": {},
   "cell_type": "markdown",
   "metadata": {},
   "source": [
    "3) Para los valores enteros del 1 al 20, imprimir por pantalla si es par o impar"
   ]
  },
  {
   "cell_type": "code",
   "execution_count": 9,
   "metadata": {},
   "outputs": [
    {
     "name": "stdout",
     "output_type": "stream",
     "text": [
      "1 es un número impar\n",
      "2 es un número par\n",
      "3 es un número impar\n",
      "4 es un número par\n",
      "5 es un número impar\n",
      "6 es un número par\n",
      "7 es un número impar\n",
      "8 es un número par\n",
      "9 es un número impar\n",
      "10 es un número par\n",
      "11 es un número impar\n",
      "12 es un número par\n",
      "13 es un número impar\n",
      "14 es un número par\n",
      "15 es un número impar\n",
      "16 es un número par\n",
      "17 es un número impar\n",
      "18 es un número par\n",
      "19 es un número impar\n",
      "20 es un número par\n"
     ]
    }
   ],
   "source": [
    "for i in range(1,21):\n",
    "    if i%2 == 0:\n",
    "        print(f'{i} es un número par')\n",
    "    else:\n",
    "        print(f'{i} es un número impar')\n",
    "\n",
    "\n",
    "\n"
   ]
  },
  {
   "attachments": {},
   "cell_type": "markdown",
   "metadata": {},
   "source": [
    "4) En un ciclo for mostrar para los valores entre 0 y 5 el resultado de elevarlo a la potencia igual a 3"
   ]
  },
  {
   "cell_type": "code",
   "execution_count": 10,
   "metadata": {},
   "outputs": [
    {
     "name": "stdout",
     "output_type": "stream",
     "text": [
      "0 elevado a la potencia de 3 es igual a 0\n",
      "1 elevado a la potencia de 3 es igual a 1\n",
      "2 elevado a la potencia de 3 es igual a 8\n",
      "3 elevado a la potencia de 3 es igual a 27\n",
      "4 elevado a la potencia de 3 es igual a 64\n",
      "5 elevado a la potencia de 3 es igual a 125\n"
     ]
    }
   ],
   "source": [
    "for i in range(6):\n",
    "    print(f'{i} elevado a la potencia de 3 es igual a {i**3}')\n"
   ]
  },
  {
   "attachments": {},
   "cell_type": "markdown",
   "metadata": {},
   "source": [
    "5) Crear una variable que contenga un número entero y realizar un ciclo for la misma cantidad de ciclos"
   ]
  },
  {
   "cell_type": "code",
   "execution_count": 1,
   "metadata": {},
   "outputs": [
    {
     "name": "stdout",
     "output_type": "stream",
     "text": [
      "0\n",
      "1\n",
      "2\n",
      "3\n",
      "4\n",
      "5\n",
      "6\n",
      "7\n",
      "8\n",
      "9\n",
      "10\n",
      "11\n"
     ]
    }
   ],
   "source": [
    "n = 12\n",
    "for i in range(0, n):\n",
    "    print(i)"
   ]
  },
  {
   "attachments": {},
   "cell_type": "markdown",
   "metadata": {},
   "source": [
    "6) Utilizar un ciclo while para realizar el factorial de un número guardado en una variable, sólo si la variable contiene un número entero mayor a 0"
   ]
  },
  {
   "cell_type": "code",
   "execution_count": 6,
   "metadata": {},
   "outputs": [],
   "source": [
    "#Get the value from user\n",
    "num = int(input(\"Give me a number: \"))"
   ]
  },
  {
   "cell_type": "code",
   "execution_count": 7,
   "metadata": {},
   "outputs": [
    {
     "name": "stdout",
     "output_type": "stream",
     "text": [
      "El factorial de 5 es 120\n"
     ]
    }
   ],
   "source": [
    "#Check if the value is greater than zero\n",
    "if num <= 0:\n",
    "    print('Solo puedo calcular factoriales de números enteros, mayores a cero')\n",
    "else: \n",
    "    #Initialize the factorial variable to 1\n",
    "    factorial = 1\n",
    "    #Create anothe variable to store the iteration\n",
    "    num_ = num\n",
    "    while (num_ > 0):\n",
    "        factorial = factorial * num_\n",
    "        num_ -= 1\n",
    "\n",
    "    #Print the result\n",
    "    print(f'El factorial de {num} es {factorial}')"
   ]
  },
  {
   "attachments": {},
   "cell_type": "markdown",
   "metadata": {},
   "source": [
    "7) Crear un ciclo for dentro de un ciclo while"
   ]
  },
  {
   "cell_type": "code",
   "execution_count": 4,
   "metadata": {},
   "outputs": [
    {
     "name": "stdout",
     "output_type": "stream",
     "text": [
      "ciclo while nro 2\n",
      "ciclo for nro 1\n",
      "ciclo while nro 3\n",
      "ciclo for nro 1\n",
      "ciclo while nro 3\n",
      "ciclo for nro 2\n",
      "ciclo while nro 4\n",
      "ciclo for nro 1\n",
      "ciclo while nro 4\n",
      "ciclo for nro 2\n",
      "ciclo while nro 4\n",
      "ciclo for nro 3\n",
      "ciclo while nro 5\n",
      "ciclo for nro 1\n",
      "ciclo while nro 5\n",
      "ciclo for nro 2\n",
      "ciclo while nro 5\n",
      "ciclo for nro 3\n",
      "ciclo while nro 5\n",
      "ciclo for nro 4\n"
     ]
    }
   ],
   "source": [
    "n = 0\n",
    "while (n < 5):\n",
    "    n += 1\n",
    "    for i in range(1,n):\n",
    "        print(f'ciclo while nro {n}')\n",
    "        print(f'ciclo for nro {i}')\n",
    "\n"
   ]
  },
  {
   "attachments": {},
   "cell_type": "markdown",
   "metadata": {},
   "source": [
    "8) Crear un ciclo while dentro de un ciclo for"
   ]
  },
  {
   "cell_type": "code",
   "execution_count": 8,
   "metadata": {},
   "outputs": [],
   "source": [
    "n = 5\n",
    "for i in range(1,n):\n",
    "    while (n < 5):\n",
    "        n -= 1\n",
    "        print(f'ciclo for nro {i}')\n",
    "        print(f'ciclo while nro {n}')"
   ]
  },
  {
   "attachments": {},
   "cell_type": "markdown",
   "metadata": {},
   "source": [
    "No ejecuta nada porque el print está dentro del ciclo while y este solo se ejecuta cuando n < 5, y nuestra variable inicial es n = 5."
   ]
  },
  {
   "attachments": {},
   "cell_type": "markdown",
   "metadata": {},
   "source": [
    "9) Imprimir los números primos existentes entre 0 y 30"
   ]
  },
  {
   "cell_type": "code",
   "execution_count": 20,
   "metadata": {},
   "outputs": [
    {
     "name": "stdout",
     "output_type": "stream",
     "text": [
      "Los números primos existentes entre 0 y 30 son [2, 3, 5, 7, 11, 13, 17, 19, 23, 29]\n"
     ]
    }
   ],
   "source": [
    "n = 30\n",
    "primos = []\n",
    "for i in range(2,n):\n",
    "    es_primo = True\n",
    "    for j in range(2,i):\n",
    "        if i % j == 0:\n",
    "            es_primo = False\n",
    "    if es_primo:\n",
    "        primos.append(i)\n",
    "print(f'Los números primos existentes entre 0 y {n} son {primos}')\n"
   ]
  },
  {
   "attachments": {},
   "cell_type": "markdown",
   "metadata": {},
   "source": [
    "10) ¿Se puede mejorar el proceso del punto 9? Utilizar las sentencias break y/ó continue para tal fin"
   ]
  },
  {
   "cell_type": "code",
   "execution_count": 21,
   "metadata": {},
   "outputs": [
    {
     "name": "stdout",
     "output_type": "stream",
     "text": [
      "Los números primos existentes entre 0 y 30 son [2, 3, 5, 7, 11, 13, 17, 19, 23, 29]\n"
     ]
    }
   ],
   "source": [
    "n = 30\n",
    "primos = []\n",
    "for i in range(2,n):\n",
    "    es_primo = True\n",
    "    for j in range(2,i):\n",
    "        if i % j == 0:\n",
    "            es_primo = False\n",
    "            break\n",
    "    if es_primo:\n",
    "        primos.append(i)\n",
    "print(f'Los números primos existentes entre 0 y {n} son {primos}')"
   ]
  },
  {
   "attachments": {},
   "cell_type": "markdown",
   "metadata": {},
   "source": [
    "11) En los puntos 9 y 10, se diseño un código que encuentra números primos y además se lo optimizó. ¿Es posible saber en qué medida se optimizó?"
   ]
  },
  {
   "cell_type": "code",
   "execution_count": 22,
   "metadata": {},
   "outputs": [
    {
     "name": "stdout",
     "output_type": "stream",
     "text": [
      "Los números primos existentes entre 0 y 30 son [2, 3, 5, 7, 11, 13, 17, 19, 23, 29]\n"
     ]
    }
   ],
   "source": [
    "n = 30\n",
    "ciclos_sin_break = 0\n",
    "primos = []\n",
    "for i in range(2,n):\n",
    "    es_primo = True\n",
    "    for j in range(2,i):\n",
    "        ciclos_sin_break += 1\n",
    "        if i % j == 0:\n",
    "            es_primo = False\n",
    "    if es_primo:\n",
    "        primos.append(i)\n",
    "print(f'Los números primos existentes entre 0 y {n} son {primos}')"
   ]
  },
  {
   "cell_type": "code",
   "execution_count": 23,
   "metadata": {},
   "outputs": [
    {
     "name": "stdout",
     "output_type": "stream",
     "text": [
      "Los números primos existentes entre 0 y 30 son [2, 3, 5, 7, 11, 13, 17, 19, 23, 29]\n"
     ]
    }
   ],
   "source": [
    "n = 30\n",
    "ciclos_con_break = 0\n",
    "primos = []\n",
    "for i in range(2,n):\n",
    "    es_primo = True\n",
    "    for j in range(2,i):\n",
    "        ciclos_con_break += 1\n",
    "        if i % j == 0:\n",
    "            es_primo = False\n",
    "            break\n",
    "    if es_primo:\n",
    "        primos.append(i)\n",
    "print(f'Los números primos existentes entre 0 y {n} son {primos}')"
   ]
  },
  {
   "cell_type": "code",
   "execution_count": 28,
   "metadata": {},
   "outputs": [
    {
     "name": "stdout",
     "output_type": "stream",
     "text": [
      "La cantidad de ciclos ejecutados sin usar la sentencia \"break\" fueron 378, mientras que los ejecutados al usarla fueron 134.\n",
      " Esto representa una optimización del 64.55%\n"
     ]
    }
   ],
   "source": [
    "print(f'La cantidad de ciclos ejecutados sin usar la sentencia \"break\" fueron {ciclos_sin_break}, mientras que los ejecutados al usarla fueron {ciclos_con_break}.\\n Esto representa una optimización del {round((((ciclos_sin_break-ciclos_con_break)/ciclos_sin_break)*100),2)}%')"
   ]
  },
  {
   "attachments": {},
   "cell_type": "markdown",
   "metadata": {},
   "source": [
    "12) Si la cantidad de números que se evalúa es mayor a treinta, esa optimización crece?"
   ]
  },
  {
   "cell_type": "code",
   "execution_count": 29,
   "metadata": {},
   "outputs": [],
   "source": [
    "n = 100\n",
    "ciclos_sin_break = 0\n",
    "primos = []\n",
    "for i in range(2,n):\n",
    "    es_primo = True\n",
    "    for j in range(2,i):\n",
    "        ciclos_sin_break += 1\n",
    "        if i % j == 0:\n",
    "            es_primo = False\n",
    "    if es_primo:\n",
    "        primos.append(i)\n",
    "#print(f'Los números primos existentes entre 0 y {n} son {primos}')"
   ]
  },
  {
   "cell_type": "code",
   "execution_count": 30,
   "metadata": {},
   "outputs": [],
   "source": [
    "n = 100\n",
    "ciclos_con_break = 0\n",
    "primos = []\n",
    "for i in range(2,n):\n",
    "    es_primo = True\n",
    "    for j in range(2,i):\n",
    "        ciclos_con_break += 1\n",
    "        if i % j == 0:\n",
    "            es_primo = False\n",
    "            break\n",
    "    if es_primo:\n",
    "        primos.append(i)\n",
    "#print(f'Los números primos existentes entre 0 y {n} son {primos}')"
   ]
  },
  {
   "cell_type": "code",
   "execution_count": 31,
   "metadata": {},
   "outputs": [
    {
     "name": "stdout",
     "output_type": "stream",
     "text": [
      "La cantidad de ciclos ejecutados en un rango de 0 - 100 sin usar la sentencia \"break\" fueron 4753, mientras que los ejecutados al usarla fueron 1132.\n",
      " Esto representa una optimización del 76.18%\n"
     ]
    }
   ],
   "source": [
    "\n",
    "print(f'La cantidad de ciclos ejecutados en un rango de 0 - {n} sin usar la sentencia \"break\" fueron {ciclos_sin_break}, mientras que los ejecutados al usarla fueron {ciclos_con_break}.\\n Esto representa una optimización del {round((((ciclos_sin_break-ciclos_con_break)/ciclos_sin_break)*100),2)}%')"
   ]
  },
  {
   "attachments": {},
   "cell_type": "markdown",
   "metadata": {},
   "source": [
    "Es decir, que con un mayor rango, la optimización aumenta también."
   ]
  },
  {
   "attachments": {},
   "cell_type": "markdown",
   "metadata": {},
   "source": [
    "13) Aplicando continue, armar un ciclo while que solo imprima los valores divisibles por 12, dentro del rango de números de 100 a 300"
   ]
  },
  {
   "cell_type": "code",
   "execution_count": 2,
   "metadata": {},
   "outputs": [
    {
     "name": "stdout",
     "output_type": "stream",
     "text": [
      "108 es divisible por 12\n",
      "120 es divisible por 12\n",
      "132 es divisible por 12\n",
      "144 es divisible por 12\n",
      "156 es divisible por 12\n",
      "168 es divisible por 12\n",
      "180 es divisible por 12\n",
      "192 es divisible por 12\n",
      "204 es divisible por 12\n",
      "216 es divisible por 12\n",
      "228 es divisible por 12\n",
      "240 es divisible por 12\n",
      "252 es divisible por 12\n",
      "264 es divisible por 12\n",
      "276 es divisible por 12\n",
      "288 es divisible por 12\n",
      "300 es divisible por 12\n"
     ]
    }
   ],
   "source": [
    "n = 99\n",
    "while (n <= 300):\n",
    "    n += 1\n",
    "    if (n % 12 != 0):\n",
    "        continue\n",
    "    print(f'{n} es divisible por 12')\n",
    "    \n"
   ]
  },
  {
   "attachments": {},
   "cell_type": "markdown",
   "metadata": {},
   "source": [
    "14) Utilizar la función **input()** que permite hacer ingresos por teclado, para encontrar números primos y dar la opción al usario de buscar el siguiente"
   ]
  },
  {
   "cell_type": "code",
   "execution_count": 2,
   "metadata": {},
   "outputs": [
    {
     "name": "stdout",
     "output_type": "stream",
     "text": [
      "El número 12 no es primo\n",
      "El número 5 es primo\n",
      "El número 2 es primo\n",
      "El número 3 es primo\n",
      "El número 4 no es primo\n",
      "Proceso finalizado\n"
     ]
    }
   ],
   "source": [
    "# Ask the user for a numeric input\n",
    "\n",
    "go = 1\n",
    "while (go == 1):\n",
    "    num = int(input('Ingrese un número para saber si es primo (0 para detener): '))\n",
    "    if num > 0:\n",
    "        es_primo = True\n",
    "        for i in range(2,num):\n",
    "            if num % i == 0:\n",
    "                es_primo = False\n",
    "                break\n",
    "        if es_primo:\n",
    "            print(f'El número {num} es primo')\n",
    "        else:\n",
    "            print(f'El número {num} no es primo')\n",
    "    if num == 0:\n",
    "        print('Proceso finalizado')\n",
    "        break\n",
    "    "
   ]
  },
  {
   "attachments": {},
   "cell_type": "markdown",
   "metadata": {},
   "source": [
    "15) Crear un ciclo while que encuentre dentro del rango de 100 a 300 el primer número divisible por 3 y además múltiplo de 6"
   ]
  },
  {
   "cell_type": "code",
   "execution_count": 4,
   "metadata": {},
   "outputs": [
    {
     "name": "stdout",
     "output_type": "stream",
     "text": [
      "102 es divisible por 3 y es múltiplo de 6\n"
     ]
    }
   ],
   "source": [
    "n = 99\n",
    "while (n <= 300):\n",
    "    if (n % 6 == 0):\n",
    "        print(f'{n} es divisible por 3 y es múltiplo de 6')\n",
    "        break\n",
    "    n += 1"
   ]
  }
 ],
 "metadata": {
  "kernelspec": {
   "display_name": "Python 3",
   "language": "python",
   "name": "python3"
  },
  "language_info": {
   "codemirror_mode": {
    "name": "ipython",
    "version": 3
   },
   "file_extension": ".py",
   "mimetype": "text/x-python",
   "name": "python",
   "nbconvert_exporter": "python",
   "pygments_lexer": "ipython3",
   "version": "3.9.2"
  },
  "orig_nbformat": 4
 },
 "nbformat": 4,
 "nbformat_minor": 2
}
