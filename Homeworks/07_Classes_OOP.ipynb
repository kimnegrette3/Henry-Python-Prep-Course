{
 "cells": [
  {
   "attachments": {},
   "cell_type": "markdown",
   "metadata": {},
   "source": [
    "## Clases y Programación Orientada a Objetos"
   ]
  },
  {
   "attachments": {},
   "cell_type": "markdown",
   "metadata": {},
   "source": [
    "1) Crear la clase vehículo que contenga los atributos:<br>\n",
    "Color<br>\n",
    "Si es moto, auto, camioneta ó camión<br>\n",
    "Cilindrada del motor"
   ]
  },
  {
   "cell_type": "code",
   "execution_count": 3,
   "metadata": {},
   "outputs": [],
   "source": [
    "class Vehiculo:\n",
    "    '''\n",
    "    Clase que contiene diferentes vehiculos y sus atributos\n",
    "    '''\n",
    "    def __init__ (self, color, tipo, motor):\n",
    "        self.color = color\n",
    "        self.tipo = tipo\n",
    "        self.motor = motor"
   ]
  },
  {
   "attachments": {},
   "cell_type": "markdown",
   "metadata": {},
   "source": [
    "2) A la clase Vehiculo creada en el punto 1, agregar los siguientes métodos:<br>\n",
    "Acelerar<br>\n",
    "Frenar<br>\n",
    "Doblar<br>"
   ]
  },
  {
   "cell_type": "code",
   "execution_count": 1,
   "metadata": {},
   "outputs": [],
   "source": [
    "class Vehiculo:\n",
    "    '''\n",
    "    Clase que contiene diferentes vehiculos y sus atributos\n",
    "    '''\n",
    "    def __init__ (self, color, tipo, motor):\n",
    "        self.color = color\n",
    "        self.tipo = tipo\n",
    "        self.motor = motor\n",
    "        self.velocidad = 0\n",
    "        self.direccion = 0\n",
    "\n",
    "    def acelerar(self, aceleracion):\n",
    "        self. velocidad += aceleracion\n",
    "\n",
    "    def frenar(self, aceleracion):\n",
    "        self.velocidad -= aceleracion\n",
    "\n",
    "    def doblar(self, angulo):\n",
    "        self.direccion += angulo\n",
    "\n",
    "        "
   ]
  },
  {
   "attachments": {},
   "cell_type": "markdown",
   "metadata": {},
   "source": [
    "3) Instanciar 3 objetos de la clase vehículo y ejecutar sus métodos, probar luego el resultado"
   ]
  },
  {
   "cell_type": "code",
   "execution_count": 12,
   "metadata": {},
   "outputs": [],
   "source": [
    "merchi = Vehiculo('azul', 'automovil', 2)\n",
    "renolito = Vehiculo('arena', 'automovil', 1.8)\n",
    "jeep = Vehiculo('naranja', 'camioneta', 2.8)"
   ]
  },
  {
   "cell_type": "code",
   "execution_count": 13,
   "metadata": {},
   "outputs": [],
   "source": [
    "merchi.acelerar(20)\n",
    "renolito.acelerar(50)\n",
    "jeep.acelerar(30)"
   ]
  },
  {
   "cell_type": "code",
   "execution_count": 14,
   "metadata": {},
   "outputs": [],
   "source": [
    "merchi.frenar(10)\n",
    "renolito.frenar(5)\n",
    "jeep.frenar(15)"
   ]
  },
  {
   "cell_type": "code",
   "execution_count": 15,
   "metadata": {},
   "outputs": [],
   "source": [
    "merchi.doblar(45)\n",
    "renolito.doblar(15)\n",
    "jeep.doblar(90)"
   ]
  },
  {
   "attachments": {},
   "cell_type": "markdown",
   "metadata": {},
   "source": [
    "4) Agregar a la clase Vehiculo, un método que muestre su estado, es decir, a que velocidad se encuentra y su dirección. Y otro método que muestre color, tipo y cilindrada"
   ]
  },
  {
   "cell_type": "code",
   "execution_count": 19,
   "metadata": {},
   "outputs": [],
   "source": [
    "class Vehiculo:\n",
    "    '''\n",
    "    Clase que contiene diferentes vehiculos y sus atributos\n",
    "    '''\n",
    "    def __init__ (self, color, tipo, motor):\n",
    "        self.color = color\n",
    "        self.tipo = tipo\n",
    "        self.motor = motor\n",
    "        self.velocidad = 0\n",
    "        self.direccion = 0\n",
    "\n",
    "    def acelerar(self, aceleracion):\n",
    "        self.velocidad += aceleracion\n",
    "\n",
    "    def frenar(self, aceleracion):\n",
    "        self.velocidad -= aceleracion\n",
    "\n",
    "    def doblar(self, angulo):\n",
    "        self.direccion += angulo\n",
    "\n",
    "    def estado(self):\n",
    "        print(f'Velocidad: {self.velocidad}, Dirección: {self.direccion}')\n",
    "\n",
    "    def detalle(self):\n",
    "        print(f'Soy un(a) {self.tipo} de color {self.color} y de cilindraje {self.motor} ')"
   ]
  },
  {
   "cell_type": "code",
   "execution_count": 17,
   "metadata": {},
   "outputs": [
    {
     "name": "stdout",
     "output_type": "stream",
     "text": [
      "Velocidad: 10, Dirección: 45\n"
     ]
    }
   ],
   "source": [
    "merchi.estado()"
   ]
  },
  {
   "cell_type": "code",
   "execution_count": 18,
   "metadata": {},
   "outputs": [
    {
     "name": "stdout",
     "output_type": "stream",
     "text": [
      "Soy un(a) automovil de color azul y de cilidraje 2 \n"
     ]
    }
   ],
   "source": [
    "merchi.detalle()"
   ]
  },
  {
   "attachments": {},
   "cell_type": "markdown",
   "metadata": {},
   "source": [
    "Crear una clase que permita utilizar las funciones creadas en la práctica del módulo 6<br>\n",
    "Verificar Primo<br>\n",
    "Valor modal<br>\n",
    "Conversión grados<br>\n",
    "Factorial<br>"
   ]
  },
  {
   "cell_type": "code",
   "execution_count": 29,
   "metadata": {},
   "outputs": [],
   "source": [
    "class Tools:\n",
    "    ''' \n",
    "    Contiene herramientas de cálculo sencillas como la verificación de número primos, \n",
    "    valor modal, conversión de medidas de temperatura y factoriales\n",
    "    '''\n",
    "    def __init__(self) -> None:\n",
    "        pass\n",
    "\n",
    "\n",
    "    def is_prime(self, num):\n",
    "        prime = True\n",
    "        for i in range(2,num):\n",
    "            if num % i == 0:\n",
    "                prime = False\n",
    "                break\n",
    "        return prime\n",
    "    \n",
    "\n",
    "    def most_common(self, list_of_nums):\n",
    "        if len(list_of_nums) == 0:\n",
    "            return None    \n",
    "        count_dic = {}  #Creo un diccionario vacío para almacenar el conteo de cada elemento de la lista\n",
    "        for n in list_of_nums:  #Itero sobre los valores de la lista, si ya existe en el diccionario, sumo 1 al conteo\n",
    "            if n in count_dic:\n",
    "                count_dic[n] += 1\n",
    "            else:\n",
    "                count_dic[n] = 1\n",
    "        #Elijo los número con los valores máximos de conteo\n",
    "        max_count = [(num,count) for num, count in count_dic.items() if count == max(count_dic.values())]\n",
    "        return max_count[0]\n",
    "    \n",
    "\n",
    "    def convert_temp(self, temp, orig_measurement, dest_measurement):\n",
    "        if orig_measurement == 'C':\n",
    "            if dest_measurement == 'C':\n",
    "                dest_value = temp\n",
    "            elif dest_measurement == 'F':\n",
    "                dest_value = (temp * 9 / 5) + 32\n",
    "            elif dest_measurement == 'K':\n",
    "                dest_value = temp + 273.15\n",
    "            else: \n",
    "                print('Please indicate final measurement as one these options: \"C\", \"F\", \"K\"')\n",
    "        elif orig_measurement == 'F':\n",
    "            if dest_measurement == 'F':\n",
    "                dest_value = temp\n",
    "            elif dest_measurement == 'C':\n",
    "                dest_value = (temp - 32) * 5 / 9\n",
    "            elif dest_measurement == 'K':\n",
    "                dest_value = ((temp - 32) * 5 / 9) + 273.15\n",
    "            else:\n",
    "                print('Please indicate final measurement as one these options: \"C\", \"F\", \"K\"')\n",
    "        elif orig_measurement == 'K':\n",
    "            if dest_measurement == 'K':\n",
    "                dest_value = temp\n",
    "            elif dest_measurement == 'C':\n",
    "                dest_value = temp - 273.15\n",
    "            elif dest_measurement == 'F':\n",
    "                dest_value = ((temp - 273.15) * 9 / 5) + 32\n",
    "            else:\n",
    "                print('Please indica|te final measurement as one these options: \"C\", \"F\", \"K\"')\n",
    "        else:\n",
    "            print('Please indicate origin and destiny measurement as one these options: \"C\", \"F\", \"K\"')\n",
    "        \n",
    "        return round(dest_value,2)\n",
    "\n",
    "\n",
    "    def factorial(self, num):\n",
    "        if(type(num) != int):\n",
    "            return 'El número debe ser un entero'\n",
    "        if(num < 0):\n",
    "            return 'El número debe ser positivo'\n",
    "        if (num > 1):\n",
    "            num = num * self.factorial(num - 1)\n",
    "        return num\n",
    "    "
   ]
  },
  {
   "attachments": {},
   "cell_type": "markdown",
   "metadata": {},
   "source": [
    "6) Probar las funciones incorporadas en la clase del punto 5"
   ]
  },
  {
   "cell_type": "code",
   "execution_count": 30,
   "metadata": {},
   "outputs": [],
   "source": [
    "t = Tools()"
   ]
  },
  {
   "cell_type": "code",
   "execution_count": 25,
   "metadata": {},
   "outputs": [
    {
     "data": {
      "text/plain": [
       "False"
      ]
     },
     "execution_count": 25,
     "metadata": {},
     "output_type": "execute_result"
    }
   ],
   "source": [
    "t.is_prime(12)"
   ]
  },
  {
   "cell_type": "code",
   "execution_count": 26,
   "metadata": {},
   "outputs": [
    {
     "data": {
      "text/plain": [
       "24"
      ]
     },
     "execution_count": 26,
     "metadata": {},
     "output_type": "execute_result"
    }
   ],
   "source": [
    "t.factorial(4)"
   ]
  },
  {
   "cell_type": "code",
   "execution_count": 27,
   "metadata": {},
   "outputs": [
    {
     "data": {
      "text/plain": [
       "(2, 3)"
      ]
     },
     "execution_count": 27,
     "metadata": {},
     "output_type": "execute_result"
    }
   ],
   "source": [
    "a = [1,2,2,2,3,4,5,5,6]\n",
    "t.most_common(a)"
   ]
  },
  {
   "cell_type": "code",
   "execution_count": 31,
   "metadata": {},
   "outputs": [
    {
     "data": {
      "text/plain": [
       "32.22"
      ]
     },
     "execution_count": 31,
     "metadata": {},
     "output_type": "execute_result"
    }
   ],
   "source": [
    "t.convert_temp(90,'F','C')"
   ]
  },
  {
   "attachments": {},
   "cell_type": "markdown",
   "metadata": {},
   "source": [
    "7) Es necesario que la clase creada en el punto 5 contenga una lista, sobre la cual se aplquen las funciones incorporadas"
   ]
  },
  {
   "cell_type": "code",
   "execution_count": 32,
   "metadata": {},
   "outputs": [],
   "source": [
    "class Tools:\n",
    "    ''' \n",
    "    Contiene herramientas de cálculo sencillas como la verificación de número primos, \n",
    "    valor modal, conversión de medidas de temperatura y factoriales\n",
    "    '''\n",
    "    def __init__(self, list_of_numbers):\n",
    "        self.list = list_of_numbers\n",
    "\n",
    "\n",
    "    def is_prime(self):\n",
    "        for n in self.list:\n",
    "            if self.__is_prime(n):\n",
    "                print(f'El número {n} es primo')\n",
    "            else:\n",
    "                print(f'El número {n} no es primo')\n",
    "\n",
    "    def convert_temp(self, orig_measurement, dest_measurement):\n",
    "        for n in self.list:\n",
    "            print(f'{n} grados {orig_measurement} equivale a {self.__convert_temp(n, orig_measurement, dest_measurement)} grados {dest_measurement}')\n",
    "\n",
    "\n",
    "    def factorial(self):\n",
    "        for n in self.list:\n",
    "            print(f'Factorial de {n} es {self.__factorial(n)}')\n",
    "\n",
    "\n",
    "    def __is_prime(self, num):\n",
    "        prime = True\n",
    "        for i in range(2,num):\n",
    "            if num % i == 0:\n",
    "                prime = False\n",
    "                break\n",
    "        return prime\n",
    "    \n",
    "\n",
    "    def most_common(self, list_of_nums):\n",
    "        if len(list_of_nums) == 0:\n",
    "            return None    \n",
    "        count_dic = {}  #Creo un diccionario vacío para almacenar el conteo de cada elemento de la lista\n",
    "        for n in list_of_nums:  #Itero sobre los valores de la lista, si ya existe en el diccionario, sumo 1 al conteo\n",
    "            if n in count_dic:\n",
    "                count_dic[n] += 1\n",
    "            else:\n",
    "                count_dic[n] = 1\n",
    "        #Elijo los número con los valores máximos de conteo\n",
    "        max_count = [(num,count) for num, count in count_dic.items() if count == max(count_dic.values())]\n",
    "        return max_count[0]\n",
    "    \n",
    "\n",
    "    def __convert_temp(self, temp, orig_measurement, dest_measurement):\n",
    "        if orig_measurement == 'C':\n",
    "            if dest_measurement == 'C':\n",
    "                dest_value = temp\n",
    "            elif dest_measurement == 'F':\n",
    "                dest_value = (temp * 9 / 5) + 32\n",
    "            elif dest_measurement == 'K':\n",
    "                dest_value = temp + 273.15\n",
    "            else: \n",
    "                print('Please indicate final measurement as one these options: \"C\", \"F\", \"K\"')\n",
    "        elif orig_measurement == 'F':\n",
    "            if dest_measurement == 'F':\n",
    "                dest_value = temp\n",
    "            elif dest_measurement == 'C':\n",
    "                dest_value = (temp - 32) * 5 / 9\n",
    "            elif dest_measurement == 'K':\n",
    "                dest_value = ((temp - 32) * 5 / 9) + 273.15\n",
    "            else:\n",
    "                print('Please indicate final measurement as one these options: \"C\", \"F\", \"K\"')\n",
    "        elif orig_measurement == 'K':\n",
    "            if dest_measurement == 'K':\n",
    "                dest_value = temp\n",
    "            elif dest_measurement == 'C':\n",
    "                dest_value = temp - 273.15\n",
    "            elif dest_measurement == 'F':\n",
    "                dest_value = ((temp - 273.15) * 9 / 5) + 32\n",
    "            else:\n",
    "                print('Please indica|te final measurement as one these options: \"C\", \"F\", \"K\"')\n",
    "        else:\n",
    "            print('Please indicate origin and destiny measurement as one these options: \"C\", \"F\", \"K\"')\n",
    "        \n",
    "        return round(dest_value,2)\n",
    "\n",
    "\n",
    "    def __factorial(self, num):\n",
    "        if(type(num) != int):\n",
    "            return 'El número debe ser un entero'\n",
    "        if(num < 0):\n",
    "            return 'El número debe ser positivo'\n",
    "        if (num > 1):\n",
    "            num = num * self.factorial(num - 1)\n",
    "        return num"
   ]
  },
  {
   "attachments": {},
   "cell_type": "markdown",
   "metadata": {},
   "source": [
    "8) Crear un archivo .py aparte y ubicar allí la clase generada en el punto anterior. Luego realizar la importación del módulo y probar alguna de sus funciones"
   ]
  },
  {
   "cell_type": "code",
   "execution_count": 1,
   "metadata": {},
   "outputs": [],
   "source": [
    "from Tools import *\n"
   ]
  },
  {
   "cell_type": "code",
   "execution_count": 2,
   "metadata": {},
   "outputs": [],
   "source": [
    "x = Tools([1,2,3,4,7,7,7,])"
   ]
  },
  {
   "cell_type": "code",
   "execution_count": 4,
   "metadata": {},
   "outputs": [
    {
     "name": "stdout",
     "output_type": "stream",
     "text": [
      "El número que más se repite es 7, un total de 3 veces\n"
     ]
    }
   ],
   "source": [
    "valor, moda = x.most_common()\n",
    "print(f'El número que más se repite es {valor}, un total de {moda} veces')"
   ]
  },
  {
   "cell_type": "code",
   "execution_count": 3,
   "metadata": {},
   "outputs": [
    {
     "name": "stdout",
     "output_type": "stream",
     "text": [
      "Factorial de 1 es 1\n",
      "Factorial de 2 es 2\n",
      "Factorial de 3 es 6\n",
      "Factorial de 4 es 24\n",
      "Factorial de 7 es 5040\n",
      "Factorial de 7 es 5040\n",
      "Factorial de 7 es 5040\n"
     ]
    }
   ],
   "source": [
    "x.factorial()"
   ]
  },
  {
   "cell_type": "code",
   "execution_count": 6,
   "metadata": {},
   "outputs": [
    {
     "name": "stdout",
     "output_type": "stream",
     "text": [
      "1 grados C equivale a 33.8 grados F\n",
      "2 grados C equivale a 35.6 grados F\n",
      "3 grados C equivale a 37.4 grados F\n",
      "4 grados C equivale a 39.2 grados F\n",
      "7 grados C equivale a 44.6 grados F\n",
      "7 grados C equivale a 44.6 grados F\n",
      "7 grados C equivale a 44.6 grados F\n"
     ]
    }
   ],
   "source": [
    "x.convert_temp('C','F')"
   ]
  },
  {
   "cell_type": "code",
   "execution_count": 7,
   "metadata": {},
   "outputs": [
    {
     "name": "stdout",
     "output_type": "stream",
     "text": [
      "El número 1 es primo\n",
      "El número 2 es primo\n",
      "El número 3 es primo\n",
      "El número 4 no es primo\n",
      "El número 7 es primo\n",
      "El número 7 es primo\n",
      "El número 7 es primo\n"
     ]
    }
   ],
   "source": [
    "x.is_prime()"
   ]
  }
 ],
 "metadata": {
  "kernelspec": {
   "display_name": "Python 3",
   "language": "python",
   "name": "python3"
  },
  "language_info": {
   "codemirror_mode": {
    "name": "ipython",
    "version": 3
   },
   "file_extension": ".py",
   "mimetype": "text/x-python",
   "name": "python",
   "nbconvert_exporter": "python",
   "pygments_lexer": "ipython3",
   "version": "3.9.2"
  },
  "orig_nbformat": 4
 },
 "nbformat": 4,
 "nbformat_minor": 2
}
