{
 "cells": [
  {
   "attachments": {},
   "cell_type": "markdown",
   "metadata": {},
   "source": [
    "## Funciones"
   ]
  },
  {
   "attachments": {},
   "cell_type": "markdown",
   "metadata": {},
   "source": [
    "1) Crear una función que reciba un número como parámetro y devuelva si True si es primo y False si no lo es"
   ]
  },
  {
   "cell_type": "code",
   "execution_count": 92,
   "metadata": {},
   "outputs": [],
   "source": [
    "def is_prime(num):\n",
    "    prime = True\n",
    "    for i in range(2,num):\n",
    "        if num % i == 0:\n",
    "            prime = False\n",
    "            break\n",
    "    return prime"
   ]
  },
  {
   "cell_type": "code",
   "execution_count": 7,
   "metadata": {},
   "outputs": [
    {
     "data": {
      "text/plain": [
       "False"
      ]
     },
     "execution_count": 7,
     "metadata": {},
     "output_type": "execute_result"
    }
   ],
   "source": [
    "is_prime(12)"
   ]
  },
  {
   "attachments": {},
   "cell_type": "markdown",
   "metadata": {},
   "source": [
    "2) Utilizando la función del punto 1, realizar otra función que reciba de parámetro una lista de números y devuelva sólo aquellos que son primos en otra lista"
   ]
  },
  {
   "cell_type": "code",
   "execution_count": 93,
   "metadata": {},
   "outputs": [],
   "source": [
    "def list_of_primes(numbers):\n",
    "    list_primes = []    #Creo una lista para almacenar los primos\n",
    "    for n in numbers:\n",
    "        if is_prime(n):\n",
    "            list_primes.append(n)\n",
    "    return list_primes   \n"
   ]
  },
  {
   "cell_type": "code",
   "execution_count": 94,
   "metadata": {},
   "outputs": [
    {
     "data": {
      "text/plain": [
       "[1, 3, 5, 7]"
      ]
     },
     "execution_count": 94,
     "metadata": {},
     "output_type": "execute_result"
    }
   ],
   "source": [
    "x = [1,3,5,7,12,14,16]\n",
    "list_of_primes(x)"
   ]
  },
  {
   "attachments": {},
   "cell_type": "markdown",
   "metadata": {},
   "source": [
    "3) Crear una función que al recibir una lista de números, devuelva el que más se repite y cuántas veces lo hace. Si hay más de un \"más repetido\", que devuelva cualquiera"
   ]
  },
  {
   "cell_type": "code",
   "execution_count": 38,
   "metadata": {},
   "outputs": [],
   "source": [
    "lis = [3,3,4,4,1,5,5,]"
   ]
  },
  {
   "cell_type": "code",
   "execution_count": 44,
   "metadata": {},
   "outputs": [],
   "source": [
    "def most_common(list_of_nums):\n",
    "    count_dic = {}  #Creo un diccionario vacío para almacenar el conteo de cada elemento de la lista\n",
    "\n",
    "    for n in list_of_nums:     #Itero sobre los valores de la lista, si ya existe en el diccionario, sumo 1 al conteo\n",
    "        if n in count_dic:\n",
    "            count_dic[n] += 1\n",
    "        else:\n",
    "            count_dic[n] = 1\n",
    "    #Elijo los número con los valores máximos de conteo\n",
    "    max_count = [(num,count) for num, count in count_dic.items() if count == max(count_dic.values())]\n",
    "    return max_count[0] #retorno cualquiera, en este caso el primero de la lista\n",
    "\n"
   ]
  },
  {
   "cell_type": "code",
   "execution_count": 42,
   "metadata": {},
   "outputs": [
    {
     "data": {
      "text/plain": [
       "(3, 2)"
      ]
     },
     "execution_count": 42,
     "metadata": {},
     "output_type": "execute_result"
    }
   ],
   "source": [
    "most_common(lis)"
   ]
  },
  {
   "attachments": {},
   "cell_type": "markdown",
   "metadata": {},
   "source": [
    "4) A la función del punto 3, agregar un parámetro más, que permita elegir si se requiere el menor o el mayor de los mas repetidos."
   ]
  },
  {
   "cell_type": "code",
   "execution_count": 50,
   "metadata": {},
   "outputs": [],
   "source": [
    "def most_common_2(list_of_nums, max_min):\n",
    "    count_dic = {}  #Creo un diccionario vacío para almacenar el conteo de cada elemento de la lista\n",
    "\n",
    "    for n in list_of_nums:     #Itero sobre los valores de la lista, si ya existe en el diccionario, sumo 1 al conteo\n",
    "        if n in count_dic:\n",
    "            count_dic[n] += 1\n",
    "        else:\n",
    "            count_dic[n] = 1\n",
    "    #Elijo los números con los valores máximos de conteo\n",
    "    max_count = [(num,count) for num, count in count_dic.items() if count == max(count_dic.values())]\n",
    "    if max_min == 'max':\n",
    "        result = max(max_count)\n",
    "    elif max_min == 'min':\n",
    "        result = min(max_count)\n",
    "    else:\n",
    "        print('Please express if you want to see the largest (\"max\") or smallest (\"min\") of the most common numbers')\n",
    "    return result \n"
   ]
  },
  {
   "cell_type": "code",
   "execution_count": 54,
   "metadata": {},
   "outputs": [
    {
     "data": {
      "text/plain": [
       "(5, 2)"
      ]
     },
     "execution_count": 54,
     "metadata": {},
     "output_type": "execute_result"
    }
   ],
   "source": [
    "most_common_2(lis, 'max')"
   ]
  },
  {
   "attachments": {},
   "cell_type": "markdown",
   "metadata": {},
   "source": [
    "5) Crear una función que convierta entre grados Celsius, Farenheit y Kelvin<br>\n",
    "Fórmula 1\t: (°C × 9/5) + 32 = °F<br>\n",
    "Fórmula 2\t: °C + 273.15 = °K<br>\n",
    "Debe recibir 3 parámetros: el valor, la medida de orígen y la medida de destino"
   ]
  },
  {
   "cell_type": "code",
   "execution_count": 72,
   "metadata": {},
   "outputs": [],
   "source": [
    "def celsius_to_fahrenheit(temp):\n",
    "    cels = temp\n",
    "    fahren = (cels * 9/5) + 32\n",
    "    return round(fahren,2)\n",
    "\n",
    "def fahrenheit_to_celsius(temp):\n",
    "    fahren = temp\n",
    "    cels = (fahren - 32) * (5/9)\n",
    "    return round(cels,2)\n",
    "\n",
    "def celsius_to_kelvin(temp):\n",
    "    cels = temp\n",
    "    kelvin = cels + 273.15\n",
    "    return round(kelvin,2)\n",
    "\n",
    "def kelvin_to_celsius(temp):\n",
    "    kelvin = temp\n",
    "    cels = kelvin - 273.15\n",
    "    return round(cels,2)\n",
    "\n",
    "def fahrenheit_to_kelvin(temp):\n",
    "    fahren = temp\n",
    "    kelvin = (fahren - 32) * 5/9 + 273.15\n",
    "    return round(kelvin,2)\n",
    "\n",
    "def kelvin_to_fahrenheit(temp):\n",
    "    kelvin = temp\n",
    "    fahren = (kelvin - 273.15) * 9/5 + 32\n",
    "    return round(fahren,2)"
   ]
  },
  {
   "cell_type": "code",
   "execution_count": 83,
   "metadata": {},
   "outputs": [],
   "source": [
    "def convert_temp(temp, orig_measurement, dest_measurement):\n",
    "    if orig_measurement == 'C':\n",
    "        if dest_measurement == 'C':\n",
    "            dest_value = temp\n",
    "        elif dest_measurement == 'F':\n",
    "            dest_value = celsius_to_fahrenheit(temp)\n",
    "        elif dest_measurement == 'K':\n",
    "            dest_value = celsius_to_kelvin(temp)\n",
    "        else: \n",
    "            print('Please indicate final measurement as one these options: \"C\", \"F\", \"K\"')\n",
    "    elif orig_measurement == 'F':\n",
    "        if dest_measurement == 'F':\n",
    "            dest_value = temp\n",
    "        elif dest_measurement == 'C':\n",
    "            dest_value = fahrenheit_to_celsius(temp)\n",
    "        elif dest_measurement == 'K':\n",
    "             dest_value = fahrenheit_to_kelvin(temp)\n",
    "        else:\n",
    "            print('Please indicate final measurement as one these options: \"C\", \"F\", \"K\"')\n",
    "    elif orig_measurement == 'K':\n",
    "        if dest_measurement == 'K':\n",
    "            dest_value = temp\n",
    "        elif dest_measurement == 'C':\n",
    "            dest_value = kelvin_to_celsius(temp)\n",
    "        elif dest_measurement == 'F':\n",
    "            dest_value = kelvin_to_fahrenheit(temp)\n",
    "        else:\n",
    "            print('Please indicate final measurement as one these options: \"C\", \"F\", \"K\"')\n",
    "    else:\n",
    "        print('Please indicate origin and destiny measurement as one these options: \"C\", \"F\", \"K\"')\n",
    "    \n",
    "    return dest_value"
   ]
  },
  {
   "cell_type": "code",
   "execution_count": 84,
   "metadata": {},
   "outputs": [
    {
     "data": {
      "text/plain": [
       "305.37"
      ]
     },
     "execution_count": 84,
     "metadata": {},
     "output_type": "execute_result"
    }
   ],
   "source": [
    "convert_temp(90, 'F', 'K')"
   ]
  },
  {
   "cell_type": "code",
   "execution_count": 85,
   "metadata": {},
   "outputs": [
    {
     "data": {
      "text/plain": [
       "80.6"
      ]
     },
     "execution_count": 85,
     "metadata": {},
     "output_type": "execute_result"
    }
   ],
   "source": [
    "convert_temp(27, 'C', 'F')"
   ]
  }
 ],
 "metadata": {
  "kernelspec": {
   "display_name": "Python 3",
   "language": "python",
   "name": "python3"
  },
  "language_info": {
   "codemirror_mode": {
    "name": "ipython",
    "version": 3
   },
   "file_extension": ".py",
   "mimetype": "text/x-python",
   "name": "python",
   "nbconvert_exporter": "python",
   "pygments_lexer": "ipython3",
   "version": "3.9.2"
  },
  "orig_nbformat": 4
 },
 "nbformat": 4,
 "nbformat_minor": 2
}
