{
 "cells": [
  {
   "attachments": {},
   "cell_type": "markdown",
   "metadata": {},
   "source": [
    "## Manejo de errores"
   ]
  },
  {
   "attachments": {},
   "cell_type": "markdown",
   "metadata": {},
   "source": [
    "1) Con la clase creada en el módulo 7, tener en cuenta diferentes casos en que el código pudiera arrojar error. Por ejemplo, en la creación del objeto recibimos una lista de números enteros pero ¿qué pasa si se envía otro tipo de dato?"
   ]
  },
  {
   "cell_type": "code",
   "execution_count": 2,
   "metadata": {},
   "outputs": [],
   "source": [
    "import sys\n",
    "sys.path.append(r'C:/Users/kim/OneDrive - Universidad de los Andes/HENRY BOOTCAMP/Prep_Course/Python-Prep/07 - Clases & OOP')"
   ]
  },
  {
   "cell_type": "code",
   "execution_count": 3,
   "metadata": {},
   "outputs": [],
   "source": [
    "import herramientas_kn as h"
   ]
  },
  {
   "cell_type": "code",
   "execution_count": 3,
   "metadata": {},
   "outputs": [
    {
     "ename": "ValueError",
     "evalue": "La lista está vacía. Proporcione una lista de números enteros",
     "output_type": "error",
     "traceback": [
      "\u001b[1;31m---------------------------------------------------------------------------\u001b[0m",
      "\u001b[1;31mValueError\u001b[0m                                Traceback (most recent call last)",
      "\u001b[1;32mc:\\Users\\kim\\OneDrive - Universidad de los Andes\\HENRY BOOTCAMP\\Prep_Course\\Python-Prep\\08 - Error Handling\\Homework_08.ipynb Cell 5\u001b[0m in \u001b[0;36m<cell line: 1>\u001b[1;34m()\u001b[0m\n\u001b[1;32m----> <a href='vscode-notebook-cell:/c%3A/Users/kim/OneDrive%20-%20Universidad%20de%20los%20Andes/HENRY%20BOOTCAMP/Prep_Course/Python-Prep/08%20-%20Error%20Handling/Homework_08.ipynb#W4sZmlsZQ%3D%3D?line=0'>1</a>\u001b[0m a \u001b[39m=\u001b[39m h\u001b[39m.\u001b[39;49mHerramientas(\u001b[39m6\u001b[39;49m)\n",
      "File \u001b[1;32mC:/Users/kim/OneDrive - Universidad de los Andes/HENRY BOOTCAMP/Prep_Course/Python-Prep/07 - Clases & OOP\\herramientas_kn.py:5\u001b[0m, in \u001b[0;36mHerramientas.__init__\u001b[1;34m(self, lista_numeros)\u001b[0m\n\u001b[0;32m      3\u001b[0m \u001b[39mif\u001b[39;00m (\u001b[39mtype\u001b[39m(lista_numeros) \u001b[39m!=\u001b[39m \u001b[39mlist\u001b[39m):\n\u001b[0;32m      4\u001b[0m     \u001b[39mself\u001b[39m\u001b[39m.\u001b[39mlista \u001b[39m=\u001b[39m []\n\u001b[1;32m----> 5\u001b[0m     \u001b[39mraise\u001b[39;00m \u001b[39mValueError\u001b[39;00m(\u001b[39m'\u001b[39m\u001b[39mLa lista está vacía. Proporcione una lista de números enteros\u001b[39m\u001b[39m'\u001b[39m)\n\u001b[0;32m      6\u001b[0m \u001b[39melse\u001b[39;00m: \n\u001b[0;32m      7\u001b[0m     \u001b[39mself\u001b[39m\u001b[39m.\u001b[39mlista \u001b[39m=\u001b[39m lista_numeros\n",
      "\u001b[1;31mValueError\u001b[0m: La lista está vacía. Proporcione una lista de números enteros"
     ]
    }
   ],
   "source": [
    "a = h.Herramientas(6)"
   ]
  },
  {
   "attachments": {},
   "cell_type": "markdown",
   "metadata": {},
   "source": [
    "2) En la función que hace la conversión de grados, validar que los parámetros enviados sean los esperados, de no serlo, informar cuáles son los valores esperados."
   ]
  },
  {
   "cell_type": "code",
   "execution_count": 8,
   "metadata": {},
   "outputs": [
    {
     "data": {
      "text/plain": [
       "<module 'herramientas_kn' from 'C:/Users/kim/OneDrive - Universidad de los Andes/HENRY BOOTCAMP/Prep_Course/Python-Prep/07 - Clases & OOP\\\\herramientas_kn.py'>"
      ]
     },
     "execution_count": 8,
     "metadata": {},
     "output_type": "execute_result"
    }
   ],
   "source": [
    "import importlib #Vuelve a cargar los archivos o módulos recientemente modificados. Con el import normal no se reflejan los cambios.\n",
    "importlib.reload(h)"
   ]
  },
  {
   "cell_type": "code",
   "execution_count": 9,
   "metadata": {},
   "outputs": [],
   "source": [
    "grados = h.Herramientas([2,3,5,6,2])"
   ]
  },
  {
   "cell_type": "code",
   "execution_count": 10,
   "metadata": {},
   "outputs": [
    {
     "name": "stdout",
     "output_type": "stream",
     "text": [
      "Parámetro de Origen incorrecto\n",
      "Parámetro de Origen incorrecto\n",
      "Parámetro de Origen incorrecto\n",
      "Parámetro de Origen incorrecto\n",
      "Parámetro de Origen incorrecto\n"
     ]
    }
   ],
   "source": [
    "grados.conversion_grados('C', 'F')"
   ]
  },
  {
   "attachments": {},
   "cell_type": "markdown",
   "metadata": {},
   "source": [
    "3) Importar el modulo \"unittest\" y crear los siguientes casos de pruebas sobre la clase utilizada en el punto 2<br>\n",
    "Creacion del objeto incorrecta<br>\n",
    "Creacion correcta del objeto<br>\n",
    "Metodo valor_modal()<br>"
   ]
  },
  {
   "cell_type": "code",
   "execution_count": 11,
   "metadata": {},
   "outputs": [],
   "source": [
    "import unittest"
   ]
  },
  {
   "cell_type": "code",
   "execution_count": 17,
   "metadata": {},
   "outputs": [],
   "source": [
    "#Se crea una clase para hacer las pruebas\n",
    "class ProbarMiClase(unittest.TestCase): #Siempre deben ir esos argumentos dentro de la clase\n",
    "\n",
    "    #Creamos las distintas funciones de prueba\n",
    "    def test_crear_objeto_1(self):\n",
    "        ''' Esta función intenta instanciar un objeto de la clase con un parámetro de entrada no válido'''\n",
    "        parametro = 'Hola'\n",
    "        self.assertRaises(ValueError, h.Herramientas, parametro) #Con este método evauamos si arrojó un error del tipo 'ValueError'\n",
    "\n",
    "    def test_crear_objeto_2(self):\n",
    "        ''' Esta función evalua si el objeto instanciado de la clase es efectivamente una lista'''\n",
    "        parametro = [1,2,3,4]\n",
    "        h1 = h.Herramientas(parametro)\n",
    "        self.assertEqual(h1.lista, parametro)\n",
    "\n",
    "    def test_valor_modal(self):\n",
    "        '''Esta función compara el valor resultado de un método de la clase con el valor esperado'''\n",
    "        lis = [1,2,2,2,3]\n",
    "        h1 = h.Herramientas(lis)\n",
    "        moda, reps = h1.valor_modal(False)\n",
    "        moda = [moda]\n",
    "        moda.append(reps)\n",
    "        esperado = [2,3]\n",
    "        self.assertEqual(moda, esperado)\n",
    "\n",
    "        "
   ]
  },
  {
   "cell_type": "code",
   "execution_count": 18,
   "metadata": {},
   "outputs": [
    {
     "name": "stderr",
     "output_type": "stream",
     "text": [
      "test_crear_objeto_1 (__main__.ProbarMiClase)\n",
      "Esta función intenta instanciar un objeto de la clase con un parámetro de entrada no válido ... ok\n",
      "test_crear_objeto_2 (__main__.ProbarMiClase)\n",
      "Esta función evalua si el objeto instanciado de la clase es efectivamente una lista ... ok\n",
      "test_valor_modal (__main__.ProbarMiClase)\n",
      "Esta función compara el valor resultado de un método de la clase con el valor esperado ... ok\n",
      "\n",
      "----------------------------------------------------------------------\n",
      "Ran 3 tests in 0.003s\n",
      "\n",
      "OK\n"
     ]
    },
    {
     "data": {
      "text/plain": [
       "<unittest.main.TestProgram at 0x1ca664ef1c0>"
      ]
     },
     "execution_count": 18,
     "metadata": {},
     "output_type": "execute_result"
    }
   ],
   "source": [
    "#Probamos la clase con las funciones definidas. Se hace con este comando:\n",
    "unittest.main(argv=[''], verbosity=2, exit=False) #El parámetro exit decide terminar o seguir corriendo las pruebas en caso de errores."
   ]
  },
  {
   "attachments": {},
   "cell_type": "markdown",
   "metadata": {},
   "source": [
    "6) Agregar casos de pruebas para el método verifica_primos() realizando el cambio en la clase, para que devuelva una lista de True o False en función de que el elemento en la posisicón sea o no primo"
   ]
  },
  {
   "cell_type": "code",
   "execution_count": 19,
   "metadata": {},
   "outputs": [
    {
     "data": {
      "text/plain": [
       "<module 'herramientas_kn' from 'C:/Users/kim/OneDrive - Universidad de los Andes/HENRY BOOTCAMP/Prep_Course/Python-Prep/07 - Clases & OOP\\\\herramientas_kn.py'>"
      ]
     },
     "execution_count": 19,
     "metadata": {},
     "output_type": "execute_result"
    }
   ],
   "source": [
    "importlib.reload(h)"
   ]
  },
  {
   "cell_type": "code",
   "execution_count": 24,
   "metadata": {},
   "outputs": [],
   "source": [
    "#Se crea una clase para hacer las pruebas\n",
    "class ProbarMiClase(unittest.TestCase): #Siempre deben ir esos argumentos dentro de la clase\n",
    "\n",
    "    #Creamos las distintas funciones de prueba\n",
    "    def test_crear_objeto_1(self):\n",
    "        parametro = 'Hola'\n",
    "        self.assertRaises(ValueError, h.Herramientas, parametro) #Con este método evauamos si arrojó un error del tipo 'ValueError'\n",
    "\n",
    "    def test_crear_objeto_2(self):\n",
    "        parametro = [1,2,3,4]\n",
    "        h1 = h.Herramientas(parametro)\n",
    "        self.assertEqual(h1.lista, parametro)\n",
    "\n",
    "    def test_valor_modal(self):\n",
    "        lis = [1,2,2,2,3]\n",
    "        h1 = h.Herramientas(lis)\n",
    "        moda, reps = h1.valor_modal(False)\n",
    "        moda = [moda]\n",
    "        moda.append(reps)\n",
    "        esperado = [2,3]\n",
    "        self.assertEqual(moda, esperado)\n",
    "\n",
    "    def test_primos(self):\n",
    "        lis = [1,3,4]\n",
    "        h1 = h.Herramientas(lis)\n",
    "        resultado = h1.verifica_primo()\n",
    "        esperado = [True, True, False]\n",
    "        self.assertEqual(resultado, esperado)"
   ]
  },
  {
   "cell_type": "code",
   "execution_count": 25,
   "metadata": {},
   "outputs": [
    {
     "name": "stderr",
     "output_type": "stream",
     "text": [
      "test_crear_objeto_1 (__main__.ProbarMiClase) ... ok\n",
      "test_crear_objeto_2 (__main__.ProbarMiClase) ... ok\n",
      "test_primos (__main__.ProbarMiClase) ... ok\n",
      "test_valor_modal (__main__.ProbarMiClase) ... ok\n",
      "\n",
      "----------------------------------------------------------------------\n",
      "Ran 4 tests in 0.003s\n",
      "\n",
      "OK\n"
     ]
    },
    {
     "data": {
      "text/plain": [
       "<unittest.main.TestProgram at 0x1ca6645c970>"
      ]
     },
     "execution_count": 25,
     "metadata": {},
     "output_type": "execute_result"
    }
   ],
   "source": [
    "unittest.main(argv=[''], verbosity=2, exit=False)"
   ]
  }
 ],
 "metadata": {
  "kernelspec": {
   "display_name": "Python 3",
   "language": "python",
   "name": "python3"
  },
  "language_info": {
   "codemirror_mode": {
    "name": "ipython",
    "version": 3
   },
   "file_extension": ".py",
   "mimetype": "text/x-python",
   "name": "python",
   "nbconvert_exporter": "python",
   "pygments_lexer": "ipython3",
   "version": "3.9.2"
  },
  "orig_nbformat": 4
 },
 "nbformat": 4,
 "nbformat_minor": 2
}
